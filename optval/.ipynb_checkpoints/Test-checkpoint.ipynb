{
 "cells": [
  {
   "cell_type": "code",
   "execution_count": 1,
   "id": "06aecb91-c36e-4a46-89bd-250c418bb262",
   "metadata": {},
   "outputs": [],
   "source": [
    "import numpy as np"
   ]
  },
  {
   "cell_type": "code",
   "execution_count": 2,
   "id": "51478b59-eaef-446f-bb37-accf983909ef",
   "metadata": {},
   "outputs": [],
   "source": [
    "a = np.full((5,5), np.arange(5), dtype=float)"
   ]
  },
  {
   "cell_type": "code",
   "execution_count": 3,
   "id": "7946b317-67ad-49d1-8475-26ea09f2e08a",
   "metadata": {},
   "outputs": [
    {
     "data": {
      "text/plain": [
       "array([[0., 1., 2., 3., 4.],\n",
       "       [0., 1., 2., 3., 4.],\n",
       "       [0., 1., 2., 3., 4.],\n",
       "       [0., 1., 2., 3., 4.],\n",
       "       [0., 1., 2., 3., 4.]])"
      ]
     },
     "execution_count": 3,
     "metadata": {},
     "output_type": "execute_result"
    }
   ],
   "source": [
    "a"
   ]
  },
  {
   "cell_type": "code",
   "execution_count": 4,
   "id": "66e87c65-2335-407e-8131-b90ee39e2e34",
   "metadata": {},
   "outputs": [],
   "source": [
    "f = a - np.arange(5).reshape(-1,1)*2"
   ]
  },
  {
   "cell_type": "code",
   "execution_count": 5,
   "id": "d26380f4-fffe-4b34-882f-2b90cfd69ae3",
   "metadata": {},
   "outputs": [
    {
     "data": {
      "text/plain": [
       "array([[ 0.,  1.,  2.,  3.,  4.],\n",
       "       [-2., -1.,  0.,  1.,  2.],\n",
       "       [-4., -3., -2., -1.,  0.],\n",
       "       [-6., -5., -4., -3., -2.],\n",
       "       [-8., -7., -6., -5., -4.]])"
      ]
     },
     "execution_count": 5,
     "metadata": {},
     "output_type": "execute_result"
    }
   ],
   "source": [
    "f"
   ]
  },
  {
   "cell_type": "code",
   "execution_count": 6,
   "id": "fe12ef6f-c132-4e50-a79e-6175489b3909",
   "metadata": {},
   "outputs": [],
   "source": [
    "z = np.arange(5).reshape(-1,1)"
   ]
  },
  {
   "cell_type": "code",
   "execution_count": 7,
   "id": "f1a15001-df89-4c27-8cdb-d535adbca327",
   "metadata": {},
   "outputs": [
    {
     "data": {
      "text/plain": [
       "array([[0],\n",
       "       [1],\n",
       "       [2],\n",
       "       [3],\n",
       "       [4]])"
      ]
     },
     "execution_count": 7,
     "metadata": {},
     "output_type": "execute_result"
    }
   ],
   "source": [
    "z"
   ]
  },
  {
   "cell_type": "code",
   "execution_count": 8,
   "id": "214ab15c-3a17-4a1c-bb35-0de898fc2e2a",
   "metadata": {},
   "outputs": [],
   "source": [
    "g = np.where(~(f<-z),f,0)"
   ]
  },
  {
   "cell_type": "code",
   "execution_count": 9,
   "id": "0feeaa4a-c29f-41e0-97b9-26ca2175e6e8",
   "metadata": {},
   "outputs": [
    {
     "data": {
      "text/plain": [
       "array([[ 0.,  1.,  2.,  3.,  4.],\n",
       "       [ 0., -1.,  0.,  1.,  2.],\n",
       "       [ 0.,  0., -2., -1.,  0.],\n",
       "       [ 0.,  0.,  0., -3., -2.],\n",
       "       [ 0.,  0.,  0.,  0., -4.]])"
      ]
     },
     "execution_count": 9,
     "metadata": {},
     "output_type": "execute_result"
    }
   ],
   "source": [
    "g"
   ]
  },
  {
   "cell_type": "code",
   "execution_count": 10,
   "id": "824d3282-1f38-4bc5-8ba3-c2b5c94e1139",
   "metadata": {},
   "outputs": [],
   "source": [
    "x = (4 * 2 ** f)"
   ]
  },
  {
   "cell_type": "code",
   "execution_count": 11,
   "id": "807b3005-e72f-4e94-85bc-8dede31162a4",
   "metadata": {},
   "outputs": [
    {
     "data": {
      "text/plain": [
       "array([[4.0000e+00, 8.0000e+00, 1.6000e+01, 3.2000e+01, 6.4000e+01],\n",
       "       [1.0000e+00, 2.0000e+00, 4.0000e+00, 8.0000e+00, 1.6000e+01],\n",
       "       [2.5000e-01, 5.0000e-01, 1.0000e+00, 2.0000e+00, 4.0000e+00],\n",
       "       [6.2500e-02, 1.2500e-01, 2.5000e-01, 5.0000e-01, 1.0000e+00],\n",
       "       [1.5625e-02, 3.1250e-02, 6.2500e-02, 1.2500e-01, 2.5000e-01]])"
      ]
     },
     "execution_count": 11,
     "metadata": {},
     "output_type": "execute_result"
    }
   ],
   "source": [
    "x"
   ]
  },
  {
   "cell_type": "code",
   "execution_count": 12,
   "id": "e1e9a687-74d3-4586-8fa5-69a3f16a41e4",
   "metadata": {},
   "outputs": [
    {
     "data": {
      "text/plain": [
       "array([[ 4.  ,  8.  , 16.  , 32.  , 64.  ],\n",
       "       [ 0.  ,  2.  ,  4.  ,  8.  , 16.  ],\n",
       "       [ 0.  ,  0.  ,  1.  ,  2.  ,  4.  ],\n",
       "       [ 0.  ,  0.  ,  0.  ,  0.5 ,  1.  ],\n",
       "       [ 0.  ,  0.  ,  0.  ,  0.  ,  0.25]])"
      ]
     },
     "execution_count": 12,
     "metadata": {},
     "output_type": "execute_result"
    }
   ],
   "source": [
    "np.where(np.triu(x), x, 0)"
   ]
  },
  {
   "cell_type": "code",
   "execution_count": null,
   "id": "3618df7e-a3f0-4bc4-ba38-f34a6bf586b0",
   "metadata": {},
   "outputs": [],
   "source": []
  }
 ],
 "metadata": {
  "kernelspec": {
   "display_name": "Python 3 (ipykernel)",
   "language": "python",
   "name": "python3"
  },
  "language_info": {
   "codemirror_mode": {
    "name": "ipython",
    "version": 3
   },
   "file_extension": ".py",
   "mimetype": "text/x-python",
   "name": "python",
   "nbconvert_exporter": "python",
   "pygments_lexer": "ipython3",
   "version": "3.11.0b5"
  }
 },
 "nbformat": 4,
 "nbformat_minor": 5
}
